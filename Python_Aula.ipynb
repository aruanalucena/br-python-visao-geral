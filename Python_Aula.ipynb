{
 "cells": [
  {
   "cell_type": "markdown",
   "metadata": {},
   "source": [
    "# Python\n",
    "\n",
    "Plano de Aula\n",
    "- Python: O que, Por quê e Como\n",
    "- Universo da Sintaxe em Python\n",
    "- Curso de Python <-> Desafios\n",
    "- Inspecionando código do Bot e Colorizador\n",
    "- Classes e Funções\n",
    "- Bibliotecas e Módulos – Imports – Família analogy\n",
    "- Alguns Pacotes na Prática\n",
    "- Atividade Prática"
   ]
  },
  {
   "cell_type": "markdown",
   "metadata": {},
   "source": [
    "## 1. Visão Geral"
   ]
  },
  {
   "cell_type": "markdown",
   "metadata": {},
   "source": [
    "### Por que usamos Python em Data Science?\n",
    "- https://areknawo.com/nice-syntax-popular-languages-syntaxes/"
   ]
  },
  {
   "cell_type": "markdown",
   "metadata": {},
   "source": [
    "### Diferença entre ferramentas para desenvolvimento em Python"
   ]
  },
  {
   "cell_type": "markdown",
   "metadata": {},
   "source": [
    "## 2. Sintaxes em Python\n",
    "![](https://github.com/awarischool/br-data-science/blob/master/python/aula/imgs/sintaxe_python.png?raw=true)\n",
    "![](https://github.com/awarischool/br-data-science/blob/master/python/aula/imgs/exemplo_sintaxe.png?raw=true)"
   ]
  },
  {
   "cell_type": "markdown",
   "metadata": {},
   "source": [
    "## 3. Aprendendo/Revisando Sintaxes de Python\n",
    "A melhor forma de aprender o uso da sintaxe de programação em Python é a partir de um curso que aborde os principais usos de tal sintaxe em conjunto com exercícios para fixação. Uma sintaxe pura em Python não possui nenhuma aplicação prática, no entanto a mesma é importante para que possamos definir algoritmos e instruções. Como veremos em seguida, as aplicações em Python surgem de fato quando começamos à importar bibliotecas, que são como se fossem ferramentas para aplicações específicas. De qualquer forma, é importante estarmos confortáveis com a sintaxe de Python. Para isso, temos uma recomendação de curso para fixação da mesma. Também preparamos uma série de desafios para fixação do que você aprender.\n",
    "\n",
    "### 3.1 TODO: \"Cola\" de Python\n",
    "- https://github.com/awarischool/br-data-science/blob/master/python/Python_Cheat_Notebook.ipynb\n",
    "\n",
    "### 3.2 TODO: Curso de Python\n",
    "- https://app.awari.com.br/data-science/unidade-03/\n",
    "\n",
    "### 3.3 TODO: Desafios\n",
    "- https://github.com/awarischool/br-python-challenges\n",
    "\n",
    "O nível de dificuldade dos desafios não está necessariamente em ordem. Boa parte deles possuem múltiplas soluções, algumas com poucas linhas. Para criarmos um senso de comunidade na turma, vamos criar um repositório para compartilharmos diferentes possíveis soluções de cada exercício. O importante aqui é a prática. O aluno pode livremente fazer consultas no buscador, com outros colegas, com o mentor e até mesmo conferir soluções de outros colegas. Além disso, não há um prazo para a entrega de todos os desafios. \n"
   ]
  },
  {
   "cell_type": "markdown",
   "metadata": {},
   "source": [
    "## 4. Classes e Funções\n",
    "Apesar de ser um conteúdo que vocês visitarão durante o curso de Python, geralmente tal conteúdo é abordado apenas na parte final, por ser \"mais avançado\". Já que estamos seguindo a metodologia invertida aqui, que tal já termos uma visão geral do que são tais conceitos para que possamos conectar com alguns pontos referentes à atividades anteriores? Primeiramente, vamos conhecer as funções nativas de Python.\n",
    "\n",
    "### 4.1 Funções Nativas do Python\n",
    "Todas as funções em Python são caracterizadas pelo uso de parênteses. Sua sintaxe é a seguinte:\n",
    "\n",
    "```\n",
    "saida_opcional = nome_da_funcao(entrada_opcional)\n",
    "```\n",
    "As funções podem tanto ser criadas pelo próprio usuário, importadas para o ambiente ou ainda há algumas funções que nativamente já estão importadas. Podemos ver uma lista da mesma a seguir:\n",
    "\n",
    "![](https://i.stack.imgur.com/O0eOZ.png)\n",
    "\n"
   ]
  },
  {
   "cell_type": "markdown",
   "metadata": {},
   "source": [
    "Você não precisa \"memorizar\" todas essas funções nativas. No entanto, seguem algumas que merecem uma atenção. Por exemplo, `print` para saída de textos de conteúdo, tipo de variávei com `type`, conversão de variáveis com `float`, `set`, `int`, `dict` ou `str` (de acordo com a demanda), `len` para largura de uma variável e `range` para criar um intervalo de números inteiros. Seguem alguns exemplos:"
   ]
  },
  {
   "cell_type": "code",
   "execution_count": null,
   "metadata": {},
   "outputs": [],
   "source": [
    "a = 5.2"
   ]
  },
  {
   "cell_type": "code",
   "execution_count": null,
   "metadata": {},
   "outputs": [],
   "source": [
    "type(a)"
   ]
  },
  {
   "cell_type": "code",
   "execution_count": null,
   "metadata": {},
   "outputs": [],
   "source": [
    "str(a)"
   ]
  },
  {
   "cell_type": "code",
   "execution_count": null,
   "metadata": {},
   "outputs": [],
   "source": [
    "int(a)"
   ]
  },
  {
   "cell_type": "code",
   "execution_count": null,
   "metadata": {},
   "outputs": [],
   "source": [
    "type(str(a))"
   ]
  },
  {
   "cell_type": "code",
   "execution_count": null,
   "metadata": {},
   "outputs": [],
   "source": [
    "list(range(20))"
   ]
  },
  {
   "cell_type": "markdown",
   "metadata": {},
   "source": [
    "Apesar de `print` parecer desnecessário pois não precisamos dele nos exemplos acima, temos dois exemplos abaixo no qual `print` faz total diferença:"
   ]
  },
  {
   "cell_type": "code",
   "execution_count": null,
   "metadata": {},
   "outputs": [],
   "source": [
    "a = 5\n",
    "b = a*2\n",
    "c = list(range(10))"
   ]
  },
  {
   "cell_type": "code",
   "execution_count": null,
   "metadata": {},
   "outputs": [],
   "source": [
    "a = 5\n",
    "print(a)\n",
    "b = a*2\n",
    "print(b)\n",
    "c = list(range(10))\n",
    "print(c)"
   ]
  },
  {
   "cell_type": "markdown",
   "metadata": {},
   "source": [
    "### 4.2 Funções Customizadas\n",
    "Podemos também customizar funções para automatizar sequência de passos que precisam ser repetidos múltiplas vezes. Segue um exemplo para o cálculo do IMC (Índice de Massa Corpórea):"
   ]
  },
  {
   "cell_type": "code",
   "execution_count": null,
   "metadata": {},
   "outputs": [],
   "source": [
    "def calcular_imc(peso, altura):\n",
    "    return peso/altura**2"
   ]
  },
  {
   "cell_type": "code",
   "execution_count": null,
   "metadata": {},
   "outputs": [],
   "source": [
    "calcular_imc(60, 1.74)"
   ]
  },
  {
   "cell_type": "code",
   "execution_count": null,
   "metadata": {},
   "outputs": [],
   "source": [
    "calcular_imc(peso=61, altura=1.64)"
   ]
  },
  {
   "cell_type": "markdown",
   "metadata": {},
   "source": [
    "#### Atividade \n",
    "Crie uma função `area_circulo` que calcule a área de um círculo:"
   ]
  },
  {
   "cell_type": "code",
   "execution_count": null,
   "metadata": {},
   "outputs": [],
   "source": [
    "PI = 3.1415 # por convenção, constantes são declaradas com letras maiúsculas para diferenciar de variáveis\n",
    "\n",
    "# Termine o código\n",
    "def area_circulo(raio):\n",
    "    #TODO: Resolver\n",
    "    return 0 "
   ]
  },
  {
   "cell_type": "code",
   "execution_count": null,
   "metadata": {},
   "outputs": [],
   "source": [
    "area_circulo(5)"
   ]
  },
  {
   "cell_type": "markdown",
   "metadata": {},
   "source": [
    "Se for muito fácil, faça com que ela também calcule a circunferência de um círculo. O mesmo possuirá duas entradas, `raio` e o tipo de cálculo `tipo_calculo` que será um string para indicar se o cálculo é 'circunferência' ou 'área'. Como lembrete a área de um circulo é `pi * r ** 2` (`** 2` significa 'ao quadrado') e a circunferência é `2 * pi * r`."
   ]
  },
  {
   "cell_type": "code",
   "execution_count": null,
   "metadata": {},
   "outputs": [],
   "source": [
    "# DICA: Confira o exemplo de sintaxe para o uso de condicionais no topo do documento.\n",
    "# DICA 2: Pesquise sobre o uso do sinal de equalidade '=='. Qual a diferença entre = e == em Python?\n",
    "\n",
    "PI = 3.1415 # por convenção, constantes são declaradas com letras maiúsculas para diferenciar de variáveis\n",
    "\n",
    "# Termine o código\n",
    "def geometria_circulo(raio, tipo_calculo):\n",
    "    return 0"
   ]
  },
  {
   "cell_type": "code",
   "execution_count": null,
   "metadata": {},
   "outputs": [],
   "source": [
    "geometria_circulo(raio=4, tipo_calculo='circunferencia')"
   ]
  },
  {
   "cell_type": "code",
   "execution_count": null,
   "metadata": {},
   "outputs": [],
   "source": [
    "geometria_circulo(raio=4, tipo_calculo='area')"
   ]
  },
  {
   "cell_type": "markdown",
   "metadata": {},
   "source": [
    "### 4.3 Classes Customizadas\n",
    "Ao contrário de funções nativas, Python não possui nenhuma classe nativa. Elas são facilmente reconhecíveis pois é um dos poucos tipos de sintaxe que faz o uso de letras maíusculas (todas as classes possuem inicial maiúscula). Podemos dizer que classe é um bloco que permite carregar dentro dele várias funções e variáveis. Segue um exemplo"
   ]
  },
  {
   "cell_type": "code",
   "execution_count": null,
   "metadata": {},
   "outputs": [],
   "source": [
    "class Cachorro:\n",
    "    def __init__(self, cor='preto'):\n",
    "        self.cor=cor\n",
    "\n",
    "    def latir(self):\n",
    "        print('AU AU')"
   ]
  },
  {
   "cell_type": "code",
   "execution_count": null,
   "metadata": {},
   "outputs": [],
   "source": [
    "pluto = Cachorro(cor='amarelo')\n",
    "snoopy = Cachorro(cor='branco')"
   ]
  },
  {
   "cell_type": "code",
   "execution_count": null,
   "metadata": {},
   "outputs": [],
   "source": [
    "pluto.cor"
   ]
  },
  {
   "cell_type": "code",
   "execution_count": null,
   "metadata": {},
   "outputs": [],
   "source": [
    "pluto.latir()"
   ]
  },
  {
   "cell_type": "code",
   "execution_count": null,
   "metadata": {},
   "outputs": [],
   "source": [
    "snoopy.latir()"
   ]
  },
  {
   "cell_type": "markdown",
   "metadata": {},
   "source": [
    "Apesar de que raramente você precisará programar classes, será muito comum que você utilize classes importadas de outros códigos mesmo sem saber. Por exemplo, o [robô do WhatsApp](https://github.com/WittmannF/whatsapp_api/blob/master/whatsapp_api.py) que utilizamos anteriormente é um exemplo de classe. Outro exemplo é o [colorizador de imagens](https://github.com/awarischool/br-data-science/blob/master/image-colorizer/deoldify_wrapper.py). A seguir, vamos ver alguns exemplos de classes e funções que podem ser importados a partir de códigos prontos.\n",
    "\n",
    "## 5. Imports"
   ]
  },
  {
   "cell_type": "markdown",
   "metadata": {},
   "source": [
    "### 5.1 TODO: Inspecionando Códigos de Atividades\n",
    "Inspecione estes dois códigos que utilizamos em atividades anteriores:\n",
    "- Bot do WhatsApp: https://github.com/WittmannF/whatsapp_api\n",
    "- Colorizador: https://github.com/awarischool/br-data-science/tree/master/image-colorizer\n",
    "\n",
    "Quais são as similaridades presentes entre ambos? Como fazemos para fazer uso do código presente neles dentro de nossas aplicações?"
   ]
  },
  {
   "cell_type": "markdown",
   "metadata": {},
   "source": [
    "### 5.2 Módulos"
   ]
  },
  {
   "cell_type": "code",
   "execution_count": null,
   "metadata": {},
   "outputs": [],
   "source": [
    "from exemplo_modulo import Cachorro"
   ]
  },
  {
   "cell_type": "code",
   "execution_count": null,
   "metadata": {},
   "outputs": [],
   "source": [
    "scooby = Cachorro('marrom')\n",
    "scooby.latir()"
   ]
  },
  {
   "cell_type": "code",
   "execution_count": null,
   "metadata": {},
   "outputs": [],
   "source": [
    "from exemplo_modulo import calcular_imc"
   ]
  },
  {
   "cell_type": "code",
   "execution_count": null,
   "metadata": {},
   "outputs": [],
   "source": [
    "calcular_imc(70, 1.81)"
   ]
  },
  {
   "cell_type": "markdown",
   "metadata": {},
   "source": [
    "### 5.3 Pacotes customizado"
   ]
  },
  {
   "cell_type": "code",
   "execution_count": null,
   "metadata": {},
   "outputs": [],
   "source": [
    "from exemplo_pacote.modulo_1 import Person\n",
    "from exemplo_pacote.modulo_2 import ComplexNumber"
   ]
  },
  {
   "cell_type": "code",
   "execution_count": null,
   "metadata": {},
   "outputs": [],
   "source": [
    "bill = Person('Bill Gates', 64)"
   ]
  },
  {
   "cell_type": "code",
   "execution_count": null,
   "metadata": {},
   "outputs": [],
   "source": [
    "bill.get_info()"
   ]
  },
  {
   "cell_type": "markdown",
   "metadata": {},
   "source": [
    "### 5.4 Pacotes Pré-Existentes\n",
    "- Lista completa: https://docs.python.org/3/py-modindex.html\n",
    "\n",
    "Alguns exemplos:"
   ]
  },
  {
   "cell_type": "code",
   "execution_count": null,
   "metadata": {},
   "outputs": [],
   "source": [
    "import math"
   ]
  },
  {
   "cell_type": "code",
   "execution_count": null,
   "metadata": {},
   "outputs": [],
   "source": [
    "math.log(10)"
   ]
  },
  {
   "cell_type": "code",
   "execution_count": null,
   "metadata": {},
   "outputs": [],
   "source": [
    "math.factorial(3)"
   ]
  },
  {
   "cell_type": "markdown",
   "metadata": {},
   "source": [
    "### 5.5 Instalação de Pacotes\n",
    "Para instalação de pacotes, a única coisa que você precisa é saber o nome do mesmo. Há um repositório de pacotes chamado [PyPi](https://pypi.org/search/) no qual automaticamente vai procurar o nome do pacote que você gostaria de instalar, fazer o download do mesmo e instalar para você. Para instalação de pacotes basta você abrir o seu CMD ou terminal e digitar:\n",
    "```\n",
    "pip install nome_pacote\n",
    "```\n",
    "Você pode ainda fazer a instalação diretamente aqui pelo jupyter. Para enviar comandos do sistema, basta você colocar o ponto de exclamação no começo. No exemplo a seguir estaremos instalando o pacote chamado [VisualML](https://github.com/WittmannF/visual-ml). Primeiramente vamos conferir se o pacote está instalado:\n"
   ]
  },
  {
   "cell_type": "code",
   "execution_count": null,
   "metadata": {},
   "outputs": [],
   "source": [
    "import visualml"
   ]
  },
  {
   "cell_type": "markdown",
   "metadata": {},
   "source": [
    "Caso o pacote não esteja instalado, uma mensagem de erro aparecerá na linha anterior indicando que ele não está instalado. Vamos portanto instalar ele:"
   ]
  },
  {
   "cell_type": "code",
   "execution_count": null,
   "metadata": {},
   "outputs": [],
   "source": [
    "!pip install visualml"
   ]
  },
  {
   "cell_type": "markdown",
   "metadata": {},
   "source": [
    "E vamos novamente tentar importar o pacote:"
   ]
  },
  {
   "cell_type": "code",
   "execution_count": null,
   "metadata": {},
   "outputs": [],
   "source": [
    "import visualml"
   ]
  },
  {
   "cell_type": "markdown",
   "metadata": {},
   "source": [
    "Agora sim! Este é um pacote que criei para inspeção de fronteiras de decisão de algoritmos de ML. A seguir há um exemplo de uso do mesmo (OBS: não há a necessidade de entender as linhas de código a seguir, apenas entender que estamos utilizando o VisualML na última linha):"
   ]
  },
  {
   "cell_type": "code",
   "execution_count": null,
   "metadata": {},
   "outputs": [],
   "source": [
    "import pandas as pd\n",
    "from sklearn.datasets import make_classification\n",
    "from sklearn.ensemble import RandomForestClassifier as RF\n",
    "\n",
    "# Create a toy classification dataset\n",
    "feature_names = ['A','B','C','D']\n",
    "X, y = make_classification(n_features=4, random_state=42)\n",
    "\n",
    "# The visualization is only supported if X is a pandas df\n",
    "X = pd.DataFrame(X, columns=feature_names)\n",
    "\n",
    "# Train a classifier\n",
    "clf = RF(random_state=42).fit(X,y) \n",
    "\n",
    "# Plot decision boundary grid\n",
    "visualml.decision_boundary_grid(clf, X, y)"
   ]
  },
  {
   "cell_type": "markdown",
   "metadata": {},
   "source": [
    "## 6. Exemplos de Pacotes na Prática\n",
    "Muitos pacotes já vem automaticamente instalados com o Anaconda. A seguir temos alguns exemplos. "
   ]
  },
  {
   "cell_type": "markdown",
   "metadata": {},
   "source": [
    "### 6.1 Reconhecimento Facial"
   ]
  },
  {
   "cell_type": "code",
   "execution_count": null,
   "metadata": {},
   "outputs": [],
   "source": [
    "# OBS: Precisa instalar opencv antes! Tente \n",
    "#!conda install opencv\n",
    "# Instruções mais detalhadas: https://medium.com/data-science-br/reconhecimento-facial-em-python-com-a-biblioteca-opencv-be500c3ebcb3"
   ]
  },
  {
   "cell_type": "code",
   "execution_count": null,
   "metadata": {},
   "outputs": [],
   "source": [
    "import cv2"
   ]
  },
  {
   "cell_type": "code",
   "execution_count": null,
   "metadata": {},
   "outputs": [],
   "source": [
    "# Caminho para o detector de faces pré-treinados\n",
    "# Fonte https://github.com/opencv/opencv/tree/master/data/haarcascades\n",
    "xml_path = 'haarcascade_frontalface_alt2.xml'\n",
    "\n",
    "# Inicializar Classificador\n",
    "clf = cv2.CascadeClassifier(xml_path)\n",
    "\n",
    "# Inicializar webcam\n",
    "cap = cv2.VideoCapture(0)\n",
    "\n",
    "# Loop para leitura do conteúdo\n",
    "while(not cv2.waitKey(20) & 0xFF == ord('q')):\n",
    "        # Capturar proximo frame\n",
    "        ret, frame = cap.read()\n",
    "\n",
    "        # TODO: Converter para tons de cinza\n",
    "        gray = cv2.cvtColor(frame, cv2.COLOR_BGR2GRAY)\n",
    "\n",
    "        # TODO: Classificar\n",
    "        faces = clf.detectMultiScale(gray)\n",
    "\n",
    "        # TODO: Desenhar retangulo\n",
    "        for x, y, w, h in faces:\n",
    "            cv2.rectangle(frame, (x, y), (x+w, y+h), (255, 0, 0))\n",
    "\n",
    "        # Visualizar\n",
    "        cv2.imshow('frame',frame)\n",
    "\n",
    "# Desligar a webcam\n",
    "cap.release()\n",
    "\n",
    "#Fechar janela do vídeo\n",
    "cv2.destroyAllWindows()\n",
    "cv2.waitKey(1)"
   ]
  },
  {
   "cell_type": "markdown",
   "metadata": {},
   "source": [
    "### 6.2 Manipulação de dados com Pandas"
   ]
  },
  {
   "cell_type": "code",
   "execution_count": null,
   "metadata": {},
   "outputs": [],
   "source": [
    "import pandas as pd # a sintaxe \"as pd\" é opcional e serve para abreviarmos o nome do módulo"
   ]
  },
  {
   "cell_type": "code",
   "execution_count": null,
   "metadata": {},
   "outputs": [],
   "source": [
    "# Função para ler arquivos do excel:\n",
    "df = pd.read_excel(\"exemplo_excel.xlsx\")"
   ]
  },
  {
   "cell_type": "code",
   "execution_count": null,
   "metadata": {},
   "outputs": [],
   "source": [
    "# Temos aqui que df é uma classe chamada \"DataFrame\", vamos testar alguns métodos dela\n",
    "type(df)"
   ]
  },
  {
   "cell_type": "code",
   "execution_count": null,
   "metadata": {},
   "outputs": [],
   "source": [
    "# Ver Cabeçalho \n",
    "df.head()"
   ]
  },
  {
   "cell_type": "code",
   "execution_count": null,
   "metadata": {},
   "outputs": [],
   "source": [
    "# Pegar algumas estatísticas\n",
    "df.describe()"
   ]
  },
  {
   "cell_type": "code",
   "execution_count": null,
   "metadata": {},
   "outputs": [],
   "source": [
    "# Pegar coluna\n",
    "df.Nome"
   ]
  },
  {
   "cell_type": "markdown",
   "metadata": {},
   "source": [
    "### 6.3 Machine Learning"
   ]
  },
  {
   "cell_type": "code",
   "execution_count": null,
   "metadata": {},
   "outputs": [],
   "source": [
    "from sklearn.datasets import load_breast_cancer\n",
    "from sklearn.ensemble import RandomForestClassifier as RF"
   ]
  },
  {
   "cell_type": "code",
   "execution_count": null,
   "metadata": {},
   "outputs": [],
   "source": [
    "# Ler base de dados de cancer de mama\n",
    "data = load_breast_cancer()\n",
    "X = data.data\n",
    "y = data.target\n",
    "\n",
    "# Treinar classificador\n",
    "clf = RF(random_state=42)\n",
    "clf.fit(X[:len(y)//2],y[:len(y)//2]) \n",
    "\n",
    "# Pegar acurácia do classificador para o conjunto de testes\n",
    "acuracia = clf.score(X[len(y)//2:], y[len(y)//2:])\n",
    "print(f'Acurácia no conjunto de teste {acuracia*100:.2f}%')"
   ]
  },
  {
   "cell_type": "markdown",
   "metadata": {},
   "source": [
    "### 6.4 Visualização de Dados"
   ]
  },
  {
   "cell_type": "code",
   "execution_count": null,
   "metadata": {},
   "outputs": [],
   "source": [
    "import seaborn as sns"
   ]
  },
  {
   "cell_type": "code",
   "execution_count": null,
   "metadata": {},
   "outputs": [],
   "source": [
    "df = pd.DataFrame(X, columns = data.feature_names)\n",
    "df['target'] = y\n",
    "columns = ['mean radius', 'mean texture', 'mean perimeter', 'mean area', 'target']\n",
    "sns.pairplot(df[columns], hue='target' )"
   ]
  },
  {
   "cell_type": "code",
   "execution_count": null,
   "metadata": {},
   "outputs": [],
   "source": [
    "# Visualizar fronteiras de decisão\n",
    "vml.decision_boundary_grid(clf, df.drop('target', axis=1), y, feat_list=columns[:-1], figsize=(12,12))"
   ]
  },
  {
   "cell_type": "markdown",
   "metadata": {},
   "source": [
    "### 6.5 Web Scrapping"
   ]
  },
  {
   "cell_type": "code",
   "execution_count": null,
   "metadata": {},
   "outputs": [],
   "source": [
    "import requests"
   ]
  },
  {
   "cell_type": "code",
   "execution_count": null,
   "metadata": {},
   "outputs": [],
   "source": [
    "url = \"https://imoveis.mercadolivre.com.br/casas/aluguel/sao-paulo/sao-paulo-zona-sul/\"\n",
    "c = requests.get(url).content\n",
    "print(f'Coletando codigo fonte de {url}')\n",
    "print(c[-100:].decode())"
   ]
  },
  {
   "cell_type": "code",
   "execution_count": null,
   "metadata": {},
   "outputs": [],
   "source": [
    "from bs4 import BeautifulSoup\n",
    "soup = BeautifulSoup(c)\n",
    "precos = soup.find_all('span', {'class': 'price__fraction'})\n",
    "precos[-5:]"
   ]
  },
  {
   "cell_type": "markdown",
   "metadata": {},
   "source": [
    "### ML Web Deploy\n",
    "- https://github.com/WittmannF/calculadora-imoveis-dev\n",
    "- https://calculadora-imoveis-dev.herokuapp.com/"
   ]
  },
  {
   "cell_type": "markdown",
   "metadata": {},
   "source": [
    "## Atividade Prática\n",
    "O seu objetivo na atividade prática será melhorar o robô do WhatsApp que foi apresentado no curso da Udemy. No curso vocês aprenderam a enviar mensagens a partir de uma lista de contatos definida no próprio código. Agora, sua tarefa será fazer com que o robô envie uma mensagem automatizada a partir de uma lista de contatos que está em uma lista do Excel. Para isso vocês vão precisar aprender a ler uma planilha do excel e coletar as colunas dessa planilha. Isso é possível com o Pandas! Primeiramente, vamos novamente ler o arquivo do excel apresentado anteriormente, que aliás, será utilizado para nossa atividade prática:"
   ]
  },
  {
   "cell_type": "code",
   "execution_count": null,
   "metadata": {},
   "outputs": [],
   "source": [
    "# Função para ler arquivos do excel:\n",
    "df = pd.read_excel(\"exemplo_excel.xlsx\")"
   ]
  },
  {
   "cell_type": "code",
   "execution_count": null,
   "metadata": {},
   "outputs": [],
   "source": [
    "# Ver cabeçalho\n",
    "df.head()"
   ]
  },
  {
   "cell_type": "markdown",
   "metadata": {},
   "source": [
    "Modifique à vontade essa planilha. Para teste, recomendamos que você inclua contatos fictícios a partir de grupos vazios (maiores detalhes estão no curso). A coluna contato deve conter uma lista das palavras chaves que serão pesquisadas, podem ser tanto números como nome de pessoas. Para que a gente consiga pegar apenas essa coluna, podemos fazer o seguinte:"
   ]
  },
  {
   "cell_type": "code",
   "execution_count": null,
   "metadata": {},
   "outputs": [],
   "source": [
    "df['Contato']"
   ]
  },
  {
   "cell_type": "markdown",
   "metadata": {},
   "source": [
    "O tipo da coluna acima chama-se Series como podemos confirmar abaixo:"
   ]
  },
  {
   "cell_type": "code",
   "execution_count": null,
   "metadata": {},
   "outputs": [],
   "source": [
    "type(df['Contato'])"
   ]
  },
  {
   "cell_type": "markdown",
   "metadata": {},
   "source": [
    "Para converter de Series para uma lista podemos fazer da seguinte maneira:"
   ]
  },
  {
   "cell_type": "code",
   "execution_count": null,
   "metadata": {},
   "outputs": [],
   "source": [
    "list(df['Contato'])"
   ]
  },
  {
   "cell_type": "markdown",
   "metadata": {},
   "source": [
    "Portanto, a variável `nomes_palavras_chaves` deverá ser declarada a partir da lista acima. Por exemplo:"
   ]
  },
  {
   "cell_type": "code",
   "execution_count": null,
   "metadata": {},
   "outputs": [],
   "source": [
    "nomes_palavras_chaves = list(df['Contato'])"
   ]
  },
  {
   "cell_type": "markdown",
   "metadata": {},
   "source": [
    "Além disso, agora a mensagem está na planilha, portanto você não precisará mais de `primeiros_nomes` ou `lista_produtos` na mensagem. E deverá carregar a lista de mensagens e incluir no `for loop`. Segue um exemplo para iterar ambas as variáveis:"
   ]
  },
  {
   "cell_type": "code",
   "execution_count": null,
   "metadata": {},
   "outputs": [],
   "source": [
    "lista_mensagens = list(df['Mensagem'])\n",
    "\n",
    "for nome_pesquisar, mensagem in zip(nomes_palavras_chaves, lista_mensagens):\n",
    "    # TODO: Atualize o código para enviar a mensagen que está na planilha do excel\n",
    "    pass #remova essa linha\n"
   ]
  },
  {
   "cell_type": "code",
   "execution_count": null,
   "metadata": {},
   "outputs": [],
   "source": []
  },
  {
   "cell_type": "code",
   "execution_count": null,
   "metadata": {},
   "outputs": [],
   "source": []
  },
  {
   "cell_type": "code",
   "execution_count": null,
   "metadata": {},
   "outputs": [],
   "source": []
  }
 ],
 "metadata": {
  "kernelspec": {
   "display_name": "Python 3",
   "language": "python",
   "name": "python3"
  },
  "language_info": {
   "codemirror_mode": {
    "name": "ipython",
    "version": 3
   },
   "file_extension": ".py",
   "mimetype": "text/x-python",
   "name": "python",
   "nbconvert_exporter": "python",
   "pygments_lexer": "ipython3",
   "version": "3.7.7"
  }
 },
 "nbformat": 4,
 "nbformat_minor": 4
}
